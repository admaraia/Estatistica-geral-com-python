{
 "cells": [
  {
   "cell_type": "markdown",
   "metadata": {},
   "source": [
    "# Estatística Geral"
   ]
  },
  {
   "cell_type": "code",
   "execution_count": 4,
   "metadata": {},
   "outputs": [],
   "source": [
    "DATASET = [15, 5, 3, 8, 10, 2, 7, 11, 12] # Dados para uso em exercícios"
   ]
  },
  {
   "cell_type": "markdown",
   "metadata": {},
   "source": [
    "## Distribuição de frequência\n"
   ]
  },
  {
   "cell_type": "markdown",
   "metadata": {},
   "source": [
    "### Rol:\n",
    "\n",
    "Organizar os dados em ordem crescente ou decrescente."
   ]
  },
  {
   "cell_type": "code",
   "execution_count": 43,
   "metadata": {},
   "outputs": [
    {
     "data": {
      "text/plain": [
       "[2, 3, 5, 7, 8, 10, 11, 12, 15]"
      ]
     },
     "execution_count": 43,
     "metadata": {},
     "output_type": "execute_result"
    }
   ],
   "source": [
    "DATASET.sort() # Ordena os dados em ordem crescente\n",
    "DATASET"
   ]
  },
  {
   "cell_type": "code",
   "execution_count": 44,
   "metadata": {},
   "outputs": [
    {
     "data": {
      "text/plain": [
       "[15, 12, 11, 10, 8, 7, 5, 3, 2]"
      ]
     },
     "execution_count": 44,
     "metadata": {},
     "output_type": "execute_result"
    }
   ],
   "source": [
    "DATASET.sort(reverse=True) # Ordena os dados em ordem decrescente\n",
    "DATASET"
   ]
  },
  {
   "cell_type": "markdown",
   "metadata": {},
   "source": [
    "### Amplitude Total da distribuição de Frequência:\n",
    "\n",
    "É a diferença existente entre o maior e o menor valor observado da distribuição de frequência. É determinada por:"
   ]
  },
  {
   "cell_type": "code",
   "execution_count": 45,
   "metadata": {},
   "outputs": [
    {
     "data": {
      "text/plain": [
       "13"
      ]
     },
     "execution_count": 45,
     "metadata": {},
     "output_type": "execute_result"
    }
   ],
   "source": [
    "AT = max(DATASET) - min(DATASET) # Amplitude total = máximo - mínimo\n",
    "AT"
   ]
  },
  {
   "cell_type": "markdown",
   "metadata": {},
   "source": [
    "### Número de classes de uma distribuição de frequência (K):\n",
    "\n",
    "São os subintervalos nos quais são contadas as observações da variável. O número de classes (K) é calculado a partir de várias formas, por simplicidade usaremos a raíz quadrada de n, com n sendo a quantidade de valores da amostra."
   ]
  },
  {
   "cell_type": "code",
   "execution_count": 46,
   "metadata": {},
   "outputs": [
    {
     "data": {
      "text/plain": [
       "3.0"
      ]
     },
     "execution_count": 46,
     "metadata": {},
     "output_type": "execute_result"
    }
   ],
   "source": [
    "K = len(DATASET) ** (1/2) # Número de classes\n",
    "K"
   ]
  },
  {
   "cell_type": "markdown",
   "metadata": {},
   "source": [
    "### Intervalo de classe ou amplitude do intervalo de classe (Ac): \n",
    "\n",
    "É o comprimento da classe.\n",
    "Obtém-se o intervalo de cada classe a partir da divisão de AT por K."
   ]
  },
  {
   "cell_type": "code",
   "execution_count": 47,
   "metadata": {},
   "outputs": [
    {
     "data": {
      "text/plain": [
       "4.333333333333333"
      ]
     },
     "execution_count": 47,
     "metadata": {},
     "output_type": "execute_result"
    }
   ],
   "source": [
    "AC = (max(DATASET) - min(DATASET)) / (len(DATASET) ** (1/2)) # Amplitude do intervalo de classe\n",
    "AC"
   ]
  },
  {
   "cell_type": "markdown",
   "metadata": {},
   "source": [
    "## Medidas de tendência central\n"
   ]
  },
  {
   "cell_type": "code",
   "execution_count": 5,
   "metadata": {},
   "outputs": [],
   "source": [
    "import numpy as np\n",
    "from scipy import stats"
   ]
  },
  {
   "cell_type": "code",
   "execution_count": 6,
   "metadata": {},
   "outputs": [],
   "source": [
    "ARRAY = np.array(DATASET)"
   ]
  },
  {
   "cell_type": "markdown",
   "metadata": {},
   "source": [
    "### Média aritmética:\n",
    "\n",
    "Seja x1; x2; : : : ; xn, dos quais representam n valores distintos da variável X, então a média aritmética de X, que denotaremos por MEDIA é dada pela soma de todos os valores de X divido pela quantidade de valores existentes n."
   ]
  },
  {
   "cell_type": "code",
   "execution_count": 50,
   "metadata": {},
   "outputs": [
    {
     "data": {
      "text/plain": [
       "8.11111111111111"
      ]
     },
     "execution_count": 50,
     "metadata": {},
     "output_type": "execute_result"
    }
   ],
   "source": [
    "MEDIA = np.mean(ARRAY)\n",
    "MEDIA"
   ]
  },
  {
   "cell_type": "markdown",
   "metadata": {},
   "source": [
    "### Mediana:\n",
    "\n",
    "Organizando os valores em ordem crescente de grandeza, a mediana é o elemento que ocupa a posição central, ou seja, existem números iguais de elementos antes e depois da mediana. Ou ainda, é o valor a baixo e acima do qual tem-se a metade dos dados."
   ]
  },
  {
   "cell_type": "code",
   "execution_count": 51,
   "metadata": {},
   "outputs": [
    {
     "data": {
      "text/plain": [
       "8.0"
      ]
     },
     "execution_count": 51,
     "metadata": {},
     "output_type": "execute_result"
    }
   ],
   "source": [
    "MEDIANA = np.median(ARRAY)\n",
    "MEDIANA"
   ]
  },
  {
   "cell_type": "markdown",
   "metadata": {},
   "source": [
    "### Moda:\n",
    "\n",
    "Em algumas situações, a distribuição das observações é tal que as frequências são maiores nos extremos. Nesses casos, a utilização apenas da média e da mediana é contraindicada, pois são valores pouco representativos do conjunto, assim, o uso da moda poderá então ser considerado.\n",
    "\n",
    "A moda de um conjunto de observações é o valor de maior ocorrência dentro do conjunto."
   ]
  },
  {
   "cell_type": "code",
   "execution_count": 52,
   "metadata": {},
   "outputs": [
    {
     "data": {
      "text/plain": [
       "ModeResult(mode=array([2]), count=array([1]))"
      ]
     },
     "execution_count": 52,
     "metadata": {},
     "output_type": "execute_result"
    }
   ],
   "source": [
    "MODA = stats.mode(ARRAY)\n",
    "MODA"
   ]
  },
  {
   "cell_type": "markdown",
   "metadata": {},
   "source": [
    "## Medidas de dispersão\n"
   ]
  },
  {
   "cell_type": "code",
   "execution_count": 2,
   "metadata": {},
   "outputs": [],
   "source": [
    "import numpy as np\n",
    "from scipy import stats"
   ]
  },
  {
   "cell_type": "code",
   "execution_count": 7,
   "metadata": {},
   "outputs": [],
   "source": [
    "ARRAY = np.array(DATASET)"
   ]
  },
  {
   "cell_type": "markdown",
   "metadata": {},
   "source": [
    "### Variância:\n",
    "\n",
    "A variância mede a dispersão dos valores em torno da média. Ela é dada pela soma dos quadrados dos desvios em relação à média aritmética, dividida pelo número de graus de liberdade. De uma maneira geral, o número de graus de liberdade associados a uma estatística é o número de elementos da amostra, n, menos o número de parâmetros (medidas da população) já estimados. Existem n menos um desvios independentes."
   ]
  },
  {
   "cell_type": "code",
   "execution_count": 55,
   "metadata": {},
   "outputs": [
    {
     "data": {
      "text/plain": [
       "16.54320987654321"
      ]
     },
     "execution_count": 55,
     "metadata": {},
     "output_type": "execute_result"
    }
   ],
   "source": [
    "VARIANCIA = np.var(ARRAY)\n",
    "VARIANCIA"
   ]
  },
  {
   "cell_type": "markdown",
   "metadata": {},
   "source": [
    "### Desvio padrão:\n",
    "\n",
    "Como medida de dispersão, a variância tem a desvantagem de apresentar unidade de medida igual ao quadrado da unidade de medida dos dados. Assim, por exemplo, se os dados são medidos em metros, a variância é dada em metros ao quadrado. Para voltarmos à unidade de medida original, precisamos de uma outra medida de dispersão. Então, se define desvio padrão como a raiz quadrada positiva da variância."
   ]
  },
  {
   "cell_type": "code",
   "execution_count": 56,
   "metadata": {},
   "outputs": [
    {
     "data": {
      "text/plain": [
       "4.067334492827361"
      ]
     },
     "execution_count": 56,
     "metadata": {},
     "output_type": "execute_result"
    }
   ],
   "source": [
    "DESVIO = np.std(ARRAY)\n",
    "DESVIO"
   ]
  },
  {
   "cell_type": "markdown",
   "metadata": {},
   "source": [
    "### Coenficiente de variação:\n",
    "\n",
    "Frequentemente, se tem o interesse em comparar variabilidades de diferentes conjuntos de valores. A comparação se torna difícil em situações onde as médias são muito desiguais ou as unidades de medida são diferentes. Nesses casos, o CV é indicado por ser uma medida de dispersão relativa. Note que o CV é o desvio padrão expresso em percentagem da média. É uma medida adimensional."
   ]
  },
  {
   "cell_type": "code",
   "execution_count": 57,
   "metadata": {},
   "outputs": [
    {
     "data": {
      "text/plain": [
       "203.95738203957384"
      ]
     },
     "execution_count": 57,
     "metadata": {},
     "output_type": "execute_result"
    }
   ],
   "source": [
    "CV = (np.var(ARRAY) / np.mean(ARRAY)) * 100\n",
    "CV"
   ]
  },
  {
   "cell_type": "markdown",
   "metadata": {},
   "source": [
    "### Score Z ou Score padronizado:\n",
    "\n",
    "O objetivo de se calcular o escore z é expressar em unidades de desvio padrão quanto um determinado número está distante da média.\n",
    "A importância dos escores z na estatística reside no fato de que eles permitem distinguir entre valores usuais e valores raros, ou incomuns. Consideramos usuais os valores cujos escores padronizados estão entre –2,00 e 2,00, e incomuns os valores com escore z inferior a –2,00 ou superior a 2,00"
   ]
  },
  {
   "cell_type": "code",
   "execution_count": 8,
   "metadata": {},
   "outputs": [
    {
     "data": {
      "text/plain": [
       "-0.7649017105914141"
      ]
     },
     "execution_count": 8,
     "metadata": {},
     "output_type": "execute_result"
    }
   ],
   "source": [
    "SZ = (5 - np.mean(ARRAY)) / np.std(ARRAY)\n",
    "SZ"
   ]
  },
  {
   "cell_type": "markdown",
   "metadata": {},
   "source": [
    "## Medidas de tendência não central\n"
   ]
  },
  {
   "cell_type": "code",
   "execution_count": 58,
   "metadata": {},
   "outputs": [],
   "source": [
    "import numpy as np\n",
    "from scipy import stats"
   ]
  },
  {
   "cell_type": "code",
   "execution_count": 59,
   "metadata": {},
   "outputs": [],
   "source": [
    "ARRAY = np.array(DATASET)"
   ]
  },
  {
   "cell_type": "markdown",
   "metadata": {},
   "source": [
    "### Quantis:\n",
    "\n",
    "A designação de quantil encontra-se associada à ideia de que os quantis dividem a distribuição de frequência em quantidades iguais, isto é, com igual número de observações. Chamaremos genericamente ao quantil de ordem p, Qp, ao valor tal que 100p% dos elementos da amostra são <= Qp e os restantes 100(1 - p)% são >= Qp, para p entre (0 < p < 1)."
   ]
  },
  {
   "cell_type": "code",
   "execution_count": 60,
   "metadata": {
    "scrolled": true
   },
   "outputs": [
    {
     "data": {
      "text/plain": [
       "8.0"
      ]
     },
     "execution_count": 60,
     "metadata": {},
     "output_type": "execute_result"
    }
   ],
   "source": [
    "QUANTIL = np.percentile(ARRAY, 50) # exemplo de cálculo do segundo quartil que é igual a mediana\n",
    "QUANTIL"
   ]
  },
  {
   "cell_type": "markdown",
   "metadata": {},
   "source": [
    "### Quartis:\n",
    "\n",
    "São valores dados a partir do conjunto de observações ordenado em ordem crescente, que dividem a distribuição em quatro partes iguais."
   ]
  },
  {
   "cell_type": "code",
   "execution_count": 61,
   "metadata": {},
   "outputs": [
    {
     "data": {
      "text/plain": [
       "5.0"
      ]
     },
     "execution_count": 61,
     "metadata": {},
     "output_type": "execute_result"
    }
   ],
   "source": [
    "Q1 = np.percentile(ARRAY, 25) # exemplo de cálculo do primeiro quartil\n",
    "Q1"
   ]
  },
  {
   "cell_type": "code",
   "execution_count": 62,
   "metadata": {},
   "outputs": [
    {
     "data": {
      "text/plain": [
       "11.0"
      ]
     },
     "execution_count": 62,
     "metadata": {},
     "output_type": "execute_result"
    }
   ],
   "source": [
    "Q3 = np.percentile(ARRAY, 75) # exemplo de cálculo do terceiro quartil\n",
    "Q3"
   ]
  },
  {
   "cell_type": "markdown",
   "metadata": {},
   "source": [
    "### Intervalo interquartil:\n",
    "\n",
    "É a diferença entre o terceiro e o primeiro interquartil, o que toma 50% dos dados em torno da mediana."
   ]
  },
  {
   "cell_type": "code",
   "execution_count": 63,
   "metadata": {},
   "outputs": [
    {
     "data": {
      "text/plain": [
       "6.0"
      ]
     },
     "execution_count": 63,
     "metadata": {},
     "output_type": "execute_result"
    }
   ],
   "source": [
    "A = np.percentile(ARRAY, 75) - np.percentile(ARRAY, 25)\n",
    "A"
   ]
  },
  {
   "cell_type": "markdown",
   "metadata": {},
   "source": [
    "### Valores discrepantes (ouliers):\n",
    "\n",
    "Para identificação de outliers devemos construir intervalos de valores a partir da amostra, para isso utilizaremos os quartis. Assim, teremos que calcular o intervalo interquatil (A).\n",
    "\n",
    "Existem duas formas de outliers, os demominados outlier moderado e o outlier extremo, o seu calculo é dado por:\n",
    "\n",
    "a) Outilier moderado\n",
    "OIM = Q1 - 1,5 * A\n",
    "OSM = Q3 + 1,5 * A\n",
    "\n",
    "b) Outilier extremo\n",
    "OIE = Q1 - 3 * A\n",
    "OSE = Q3 + 3 * A\n",
    "\n",
    "Os valores de outliers delimitam o linha de fim dos gráficos de boxplot, o que define os valores 'válidos' como >= OI e <=OS."
   ]
  },
  {
   "cell_type": "code",
   "execution_count": 64,
   "metadata": {},
   "outputs": [
    {
     "data": {
      "text/plain": [
       "-4.0"
      ]
     },
     "execution_count": 64,
     "metadata": {},
     "output_type": "execute_result"
    }
   ],
   "source": [
    "OIM = np.percentile(ARRAY, 25) - 1.5 * (np.percentile(ARRAY, 75) - np.percentile(ARRAY, 25))\n",
    "OIM # Outlier inferior moderado"
   ]
  },
  {
   "cell_type": "code",
   "execution_count": 65,
   "metadata": {},
   "outputs": [
    {
     "data": {
      "text/plain": [
       "20.0"
      ]
     },
     "execution_count": 65,
     "metadata": {},
     "output_type": "execute_result"
    }
   ],
   "source": [
    "OSM = np.percentile(ARRAY, 75) + 1.5 * (np.percentile(ARRAY, 75) - np.percentile(ARRAY, 25))\n",
    "OSM # Outlier superior moderado"
   ]
  },
  {
   "cell_type": "code",
   "execution_count": 66,
   "metadata": {},
   "outputs": [
    {
     "data": {
      "text/plain": [
       "-13.0"
      ]
     },
     "execution_count": 66,
     "metadata": {},
     "output_type": "execute_result"
    }
   ],
   "source": [
    "OIE = np.percentile(ARRAY, 25) - 3 * (np.percentile(ARRAY, 75) - np.percentile(ARRAY, 25))\n",
    "OIE # Outlier inferior extremo"
   ]
  },
  {
   "cell_type": "code",
   "execution_count": 67,
   "metadata": {},
   "outputs": [
    {
     "data": {
      "text/plain": [
       "29.0"
      ]
     },
     "execution_count": 67,
     "metadata": {},
     "output_type": "execute_result"
    }
   ],
   "source": [
    "OSE = np.percentile(ARRAY, 75) + 3 * (np.percentile(ARRAY, 75) - np.percentile(ARRAY, 25))\n",
    "OSE # Outlier superior extremo"
   ]
  },
  {
   "cell_type": "code",
   "execution_count": null,
   "metadata": {},
   "outputs": [],
   "source": []
  }
 ],
 "metadata": {
  "kernelspec": {
   "display_name": "Python 3",
   "language": "python",
   "name": "python3"
  },
  "language_info": {
   "codemirror_mode": {
    "name": "ipython",
    "version": 3
   },
   "file_extension": ".py",
   "mimetype": "text/x-python",
   "name": "python",
   "nbconvert_exporter": "python",
   "pygments_lexer": "ipython3",
   "version": "3.7.1"
  }
 },
 "nbformat": 4,
 "nbformat_minor": 2
}
